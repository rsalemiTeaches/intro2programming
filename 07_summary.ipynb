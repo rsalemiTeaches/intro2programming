{
 "cells": [
  {
   "cell_type": "markdown",
   "id": "ecd18467-8f06-4f05-aceb-e6a357bf6860",
   "metadata": {},
   "source": [
    "**Previous** [06 Defining Functions](06_defining_functions.ipynb)\n",
    "\n",
    "# Summary of Your Learning Journey\n",
    "\n",
    "So far, you have built a strong foundation in the core concepts of programming. Here's a recap of what you've accomplished:\n",
    "\n",
    "* **01 Welcome to programming**: You started by learning what programming is and wrote your first lines of code, likely using the print() function to see immediate results.\n",
    "* **02 Variables**: You learned how to store information in your programs using variables. You can now create named containers for different types of data, like text (strings) and numbers (integers).\n",
    "* **03 Using functions**: You explored how to use pre-built commands called functions to perform actions. You've used functions like print() to display output, input() to get information from a user, and int() to convert text into a number.\n",
    "* **04 Deciding what to do**: You learned how to make your programs intelligent by using conditional logic. With if, elif, and else statements, you can now write code that makes decisions and runs different actions based on whether a condition is true or false.\n",
    "* **05 Loops**: You discovered how to make your programs repeat actions without rewriting code. Using while loops, you can now create programs that perform a task over and over as long as a specific condition is met.\n",
    "* **06 Defining functions**: You've now made the leap from using functions to creating your own! You know how to define a reusable block of code with the def keyword. You can create simple functions, functions that require arguments (parameters) to do their job, and functions that return a value to your main program, just like in the Number Doubler assignment."
   ]
  }
 ],
 "metadata": {
  "kernelspec": {
   "display_name": "Python 3 (ipykernel)",
   "language": "python",
   "name": "python3"
  },
  "language_info": {
   "codemirror_mode": {
    "name": "ipython",
    "version": 3
   },
   "file_extension": ".py",
   "mimetype": "text/x-python",
   "name": "python",
   "nbconvert_exporter": "python",
   "pygments_lexer": "ipython3",
   "version": "3.13.5"
  }
 },
 "nbformat": 4,
 "nbformat_minor": 5
}
