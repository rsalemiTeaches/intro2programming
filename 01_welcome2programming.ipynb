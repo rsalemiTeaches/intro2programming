{
 "cells": [
  {
   "attachments": {},
   "cell_type": "markdown",
   "id": "d293ac0e-b2a4-4d41-b684-aae8164a8412",
   "metadata": {},
   "source": [
    "**Previous** [01 Welcome to Programming](01_welcome2programming.ipynb)\n",
    "\n",
    "# Welcome to programming\n",
    "If you're reading this file, you are likely in one of Mr. Salemi's programming classes, but you've never programmed. If so, you are in the right place!\n",
    "\n",
    "This notebook and the ones that follow introduce you to the world of programming.  You may be taking a class that uses MicroPython, C++, or MATLAB, but you'll see that the basic concepts of programming are the same across all the languages.\n",
    "\n",
    "In these notebooks, we'll be learning programming using Python, but the concepts you will learn here apply to all other languages.\n",
    "\n",
    "## What is programming?\n",
    "\n",
    "If you've cooked from a recipe, built a Lego model using the instructions, or followed directions to a room, you have experienced the basics of programming.  In each activity, you read instructions step-by-step and followed them to achieve a goal.  \n",
    "\n",
    "All computers, from the handheld computer in your phone to the giant computers that manage the world's financial transactions, work the same way.  They all read instructions and follow them step-by-step to achieve a goal. When you write a program, you tell the computer exactly what to do, and it does it.\n",
    "\n",
    "# Your first program: Hello, World\n",
    "It is an ancient programming tradition that all new programmers introduce themselves to the programming world by running a program named *Hello, world.*  Here is that program in Python, the language we'll use to learn about programming."
   ]
  },
  {
   "cell_type": "markdown",
   "id": "b9707a55-3524-48a1-b063-971f686fb1a4",
   "metadata": {},
   "source": [
    "We get the computer to follow the instructions by *running the program.  Run the program by clicking in the program and pressing *shift-enter*"
   ]
  },
  {
   "cell_type": "code",
   "execution_count": 1,
   "id": "b9235cc7-d90f-4522-b78f-79c7128e5b5d",
   "metadata": {},
   "outputs": [
    {
     "name": "stdout",
     "output_type": "stream",
     "text": [
      "Hello, world.\n"
     ]
    }
   ],
   "source": [
    "print(\"Hello, world.\")"
   ]
  },
  {
   "cell_type": "markdown",
   "id": "939bd818-97d8-4dd9-8a06-9d1ac6760fce",
   "metadata": {},
   "source": [
    "The computer followed the instruction and printed *Hello, world.*  Now we can give the computer multiple instructions."
   ]
  },
  {
   "cell_type": "code",
   "execution_count": 2,
   "id": "cd18df6b-eba8-4da7-95ae-79895df1efa7",
   "metadata": {},
   "outputs": [
    {
     "name": "stdout",
     "output_type": "stream",
     "text": [
      "Hello, world.\n",
      "How are you, today?\n"
     ]
    }
   ],
   "source": [
    "print(\"Hello, world.\")\n",
    "print(\"How are you, today?\")"
   ]
  },
  {
   "cell_type": "markdown",
   "id": "f206b86c-4a4b-442f-a39e-236952d37f1e",
   "metadata": {},
   "source": [
    "You've run your first program.\n",
    "\n",
    "# Now you try\n",
    "Here is your chance to write a program.  Write a five-line program that tells a knock-knock joke.\n",
    "```\n",
    "Knock knock\n",
    "Who's there\n",
    "<answer>\n",
    "<answer who>?\n",
    "<joke>\n",
    "```\n",
    "I will get you started.  Add code to the block below to complete the knock-knock joke. (Google can find you a good one.)"
   ]
  },
  {
   "cell_type": "code",
   "execution_count": 4,
   "id": "4e554c44-3ea7-41ca-a301-cd6d9e69365c",
   "metadata": {},
   "outputs": [
    {
     "name": "stdout",
     "output_type": "stream",
     "text": [
      "Knock knock.\n",
      "Who's there?\n"
     ]
    }
   ],
   "source": [
    "print(\"Knock knock.\")\n",
    "print(\"Who's there?\")"
   ]
  },
  {
   "cell_type": "markdown",
   "id": "c69975cd-3228-4be5-83a8-1208a146d1be",
   "metadata": {},
   "source": [
    "# What's next\n",
    "\n",
    "[02 Variables](02_variables.ipynb)"
   ]
  }
 ],
 "metadata": {
  "kernelspec": {
   "display_name": "Python 3 (ipykernel)",
   "language": "python",
   "name": "python3"
  },
  "language_info": {
   "codemirror_mode": {
    "name": "ipython",
    "version": 3
   },
   "file_extension": ".py",
   "mimetype": "text/x-python",
   "name": "python",
   "nbconvert_exporter": "python",
   "pygments_lexer": "ipython3",
   "version": "3.13.5"
  }
 },
 "nbformat": 4,
 "nbformat_minor": 5
}
