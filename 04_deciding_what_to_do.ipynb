{
 "cells": [
  {
   "cell_type": "markdown",
   "id": "f273c755-40db-49e2-99ac-838f9421327b",
   "metadata": {},
   "source": [
    "# Deciding what to do\n",
    "\n",
    "When you program a computer, you create instructions that the computer follows.  So far, our instructions have been nothing but a list of commands.  We've said, \"Get the name, then print the name.\"  But what do we do if we have a more complicated problem?  What about this problem:\n",
    "\n",
    "> Create a random score for the US and another for Argentina.  If the US score is higher, print \"US wins! Yay!\" If the Argentina score is higher, print \"Argentina wins. Aww!\"  If the scores are the same, print \"Tie game.\"\n",
    "\n",
    "We can't implement this program with a list of instructions.  We need to check who won.  In Python, we have three statements that do this:\n",
    "\n",
    "* `if`—This checks to see if something is true and takes action if it is true.\n",
    "* `elif`—If the first thing is not true (\"else\"), we check a second thing and take action if that is true.\n",
    "* `else`—If nothing is true, we do a third action.\n",
    "\n",
    "Let's see how to do this win our score-checking program.\n"
   ]
  },
  {
   "cell_type": "code",
   "execution_count": 4,
   "id": "a0b6f97d-401b-4224-9dd2-ba1eeaa3fbb7",
   "metadata": {},
   "outputs": [
    {
     "name": "stdout",
     "output_type": "stream",
     "text": [
      "US: 1 Argentina: 1\n",
      "It is a tie. Everybody wins. Sort of.\n"
     ]
    }
   ],
   "source": [
    "from random import randint # import the randint function from the library\n",
    "\n",
    "US_score = randint(1,3) # The US gets 1-3 goals.\n",
    "Argentine_score = randint(1,4) # Argentina is a bit better, so they get 1-4 goals.\n",
    "\n",
    "# Check the score.\n",
    "print (\"US:\",US_score, \"Argentina:\", Argentine_score)\n",
    "if (US_score > Argentine_score):\n",
    "    print(\"US Wins!  Yay!\")\n",
    "elif (Argentine_score > US_score):\n",
    "    print(\"Argentina wins.  Aww.\")\n",
    "else:\n",
    "    print(\"It is a tie. Everybody wins. Sort of.\")\n",
    "    \n"
   ]
  },
  {
   "cell_type": "markdown",
   "id": "9192de61-86b0-4057-a811-4ad5e4e62ef9",
   "metadata": {},
   "source": [
    "## Writing IF/ELIF/ELSE blocks in Python\n",
    "\n",
    "The example above shows the basics of writing an `if/elif/else` block in Python. You need to notice some details in the code to be able to write your own block.\n",
    "\n",
    "* The block starts with the word `if`.  Then you put in a statement like `US_score > Argentine_score` that returns a `True` or `False` value.  We'll see later that you could also use a function that returns `True` or `False` in an `if` statement.  \n",
    "\n",
    "* You put a colon (`:`) at the end of the `if` to tell Python that the statement is complete.\n",
    "\n",
    "* **Very important** You indent the next line to tell Python which instructions to run if the statement is true.\n",
    "\n",
    "* **Very important** You outdent the `elif` statement to tell Python that the block of instructions is complete and it needs to check another value.\n",
    "\n",
    "* The `elif` means \"else if\" as in \"If the US wins print this, else if Argentina wins print that.\"  You can string many `elif` statements together to check many values.\n",
    "\n",
    "* The `elif` looks like an `if` because it also has a conditional. This is `(Argentine_score > US_score)` in this case.  Again, you finish with a colon.\n",
    "\n",
    "* **Very important** You indent the statements that run if the `elif` condition is true.\n",
    "\n",
    "* **Very important** You outdent the `else` statement.\n",
    "\n",
    "* The `else` statement runs if all the conditions are false.  In this case it only runs if the US score is not greater than the Argentine score *and* the Argentine score is not greater than the US score.\n",
    "\n",
    "* You end the `else` with another colon.\n",
    "\n",
    "* **Very important** Indent the statements that run if you reach the `else` statement.\n",
    "\n",
    "### There can be only one\n",
    "\n",
    "When you create an `if/elif/else` block, remember that only one of the conditions will run.  If the first condition is true, then the `elif` statements don't run.  If any of the `elif` statements are true, then the `elif` statements after the true statement do not run, and the `else` does not run.\n",
    "\n",
    "## Other Languages\n",
    "\n",
    "The example here works with Python.  Other languages, such as C++ and MATLAB, also have if/elif/else structures with different names.  They also have different ways of showing the commands to run on a true statement. \n",
    "\n",
    "# You do it\n",
    "\n",
    "I will give you a random number from -3 to 3 and print it.  You print whether the number is positive, negative, or zero."
   ]
  },
  {
   "cell_type": "code",
   "execution_count": 13,
   "id": "3a66e13a-0b41-41ef-97fe-53952688c009",
   "metadata": {},
   "outputs": [
    {
     "name": "stdout",
     "output_type": "stream",
     "text": [
      "Your number is 0\n"
     ]
    }
   ],
   "source": [
    "from random import randint\n",
    "yourNumb = randint(-3, 3)\n",
    "print(\"Your number is\", yourNumb)\n",
    "\n",
    "# if yourNumb > 0:\n",
    "    # What do you print here?\n",
    "# elif ... what do you check for next?\n",
    "    # ...\n",
    "# else:\n",
    "    # ...\n"
   ]
  }
 ],
 "metadata": {
  "kernelspec": {
   "display_name": "Python 3 (ipykernel)",
   "language": "python",
   "name": "python3"
  },
  "language_info": {
   "codemirror_mode": {
    "name": "ipython",
    "version": 3
   },
   "file_extension": ".py",
   "mimetype": "text/x-python",
   "name": "python",
   "nbconvert_exporter": "python",
   "pygments_lexer": "ipython3",
   "version": "3.13.5"
  }
 },
 "nbformat": 4,
 "nbformat_minor": 5
}
