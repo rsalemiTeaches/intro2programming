{
 "cells": [
  {
   "cell_type": "markdown",
   "id": "55e29caf-41ad-422e-ba80-ee84d3b2a3c0",
   "metadata": {},
   "source": [
    "# Variables\n",
    "\n",
    "We started by comparing programming to creating step-by-step instructions for a computer. We then discussed building a Lego project from instructions as an example of real-life programming. However, the instructions for Legos are simple because they always build the same car.  What if you wanted to create more complicated instructions, such as keeping score in a baseball game?\n",
    "\n",
    "You want instructions that say, give each team 0 points at the beginning of the game and add points to their scores at the end of each inning.  This is a more complicated problem than building a car from Legos because the score can be almost any number. Also, you need to store numbers in two places, one for the home team and one for the visitors. \n",
    "\n",
    "*Variables* allow us to store data using a name (such as `home_score` or `visitor_score` and use the data later in the program, like when we're adding runs to each score.\n",
    "\n",
    "## A simple start: a name\n",
    "\n",
    "Let's start simply by writing *Hello, world* again but this time we'll say \"Hello, \\<name\\>\" where we ask for the person's name.\n",
    "\n",
    "Click on the code below and press the run button above to see how a variable works."
   ]
  },
  {
   "cell_type": "code",
   "execution_count": null,
   "id": "79c77592-62b3-4fd6-8653-d1b4937c8f13",
   "metadata": {},
   "outputs": [],
   "source": [
    "name = input(\"what is your name\")\n",
    "print(\"Hello, \", name)"
   ]
  },
  {
   "cell_type": "markdown",
   "id": "9dcc3c18-ddeb-49d9-b8ed-b5ff341cd408",
   "metadata": {},
   "source": [
    "The program stores the person's name in the `name` variable using the `input()` function and uses the variable in the print statement. We can also do math with variables.\n",
    "\n",
    "## Math with variables\n",
    "\n",
    "In the program above, the `name` variable stored the person's name, and we used the `name` variable to print the name.  We can also store numbers in variables and use them to do math. Consider this program with two variables that contain numbers for us to add."
   ]
  },
  {
   "cell_type": "code",
   "execution_count": 2,
   "id": "b5780c08-e825-44b1-a5cb-b6b058f375bd",
   "metadata": {},
   "outputs": [
    {
     "name": "stdout",
     "output_type": "stream",
     "text": [
      "total  12\n"
     ]
    }
   ],
   "source": [
    "var1 = 5\n",
    "var2 = 7\n",
    "total = 5 + 7\n",
    "print(\"total \", total)\n"
   ]
  },
  {
   "cell_type": "markdown",
   "id": "41aca613-50bb-472f-a3a5-2c231360963c",
   "metadata": {},
   "source": [
    "We can also add numbers to a variable and store the result back in the variable."
   ]
  },
  {
   "cell_type": "code",
   "execution_count": 3,
   "id": "bc7a697b-24cc-485d-adee-2acb5dfdf4f0",
   "metadata": {},
   "outputs": [
    {
     "name": "stdout",
     "output_type": "stream",
     "text": [
      "newvar  13\n"
     ]
    }
   ],
   "source": [
    "newvar = 5\n",
    "newvar = newvar + 8\n",
    "print(\"newvar \", newvar)"
   ]
  },
  {
   "cell_type": "markdown",
   "id": "d3a56332-5ab3-477f-96b9-5f42460af5c8",
   "metadata": {},
   "source": [
    "# Variable Types\n",
    "Our first example above read a user's name from the `input()` function and printed it, and our second example added two variables.  But what happens if we try to use the input to get a person's age?\n",
    "\n",
    "Try the code below to see the error."
   ]
  },
  {
   "cell_type": "code",
   "execution_count": 4,
   "id": "721d8336-3585-412f-a96e-cf949b013bbc",
   "metadata": {},
   "outputs": [
    {
     "name": "stdin",
     "output_type": "stream",
     "text": [
      "How old are you? 3\n"
     ]
    },
    {
     "ename": "TypeError",
     "evalue": "can only concatenate str (not \"int\") to str",
     "output_type": "error",
     "traceback": [
      "\u001b[31m---------------------------------------------------------------------------\u001b[39m",
      "\u001b[31mTypeError\u001b[39m                                 Traceback (most recent call last)",
      "\u001b[36mCell\u001b[39m\u001b[36m \u001b[39m\u001b[32mIn[4]\u001b[39m\u001b[32m, line 2\u001b[39m\n\u001b[32m      1\u001b[39m age = \u001b[38;5;28minput\u001b[39m (\u001b[33m\"\u001b[39m\u001b[33mHow old are you?\u001b[39m\u001b[33m\"\u001b[39m)\n\u001b[32m----> \u001b[39m\u001b[32m2\u001b[39m age = \u001b[43mage\u001b[49m\u001b[43m \u001b[49m\u001b[43m+\u001b[49m\u001b[43m \u001b[49m\u001b[32;43m1\u001b[39;49m\n\u001b[32m      3\u001b[39m \u001b[38;5;28mprint\u001b[39m(\u001b[33m\"\u001b[39m\u001b[33mNext year you will \u001b[39m\u001b[33m\"\u001b[39m, age, \u001b[33m\"\u001b[39m\u001b[33myears old.\u001b[39m\u001b[33m\"\u001b[39m)\n",
      "\u001b[31mTypeError\u001b[39m: can only concatenate str (not \"int\") to str"
     ]
    }
   ],
   "source": [
    "age = input (\"How old are you?\")\n",
    "age = age + 1\n",
    "print(\"Next year you will \", age, \"years old.\")"
   ]
  },
  {
   "cell_type": "markdown",
   "id": "313e6d25-0abf-4b99-a83c-7e98f1786f95",
   "metadata": {},
   "source": [
    "The error on line two shows us that variables come in different *types*.  Types tell us what kind of information is stored in a variable and what we're allowed to do with that information. \n",
    "\n",
    "The `input()` function returns a type called `str`.  We can see this using the `type()` function."
   ]
  },
  {
   "cell_type": "code",
   "execution_count": 5,
   "id": "235d598c-87a9-493c-b353-049bdb51a842",
   "metadata": {},
   "outputs": [
    {
     "name": "stdin",
     "output_type": "stream",
     "text": [
      "What is your name Joe\n"
     ]
    },
    {
     "data": {
      "text/plain": [
       "str"
      ]
     },
     "execution_count": 5,
     "metadata": {},
     "output_type": "execute_result"
    }
   ],
   "source": [
    "name = input(\"What is your name\")\n",
    "type(name)"
   ]
  },
  {
   "cell_type": "markdown",
   "id": "7207b11d-369c-4ea8-a1e8-bc1d6102d0cf",
   "metadata": {},
   "source": [
    "`str` stands for the word \"string,\" meaning the name contains letters.  We read the letters from the user and print them.\n",
    "\n",
    "We weren't able to add 1 to the person's age because Python thinks the `age` variable contains a bunch of letters and thinks we're trying to do something like adding 1 to the name \"Fred,\" which makes no sense.\n",
    "\n",
    "Python wants to add numbers that are type `int`.  `int` is short for integer, and this is like the integers you learned about in math.  Integers are whole numbers that you can use to count.  The variable `newvar` above was an `int`.  We can see this using the `type()` function.\n"
   ]
  },
  {
   "cell_type": "code",
   "execution_count": 6,
   "id": "3cd5ea81-43b7-4cd9-89a9-07f04e21d2f3",
   "metadata": {},
   "outputs": [
    {
     "data": {
      "text/plain": [
       "int"
      ]
     },
     "execution_count": 6,
     "metadata": {},
     "output_type": "execute_result"
    }
   ],
   "source": [
    "type(newvar)"
   ]
  },
  {
   "cell_type": "markdown",
   "id": "1130794e-7cff-45ab-8145-65837913adc0",
   "metadata": {},
   "source": [
    "We've seen the `str` type and the `int` type of variables.  The `int` type does not hold fractions, so what if we want to store the number `1.5`? Let's pass `1.5` to the `type()` function and see what we get:"
   ]
  },
  {
   "cell_type": "code",
   "execution_count": 7,
   "id": "020df6c5-6c8a-40f4-9124-810138631944",
   "metadata": {},
   "outputs": [
    {
     "data": {
      "text/plain": [
       "float"
      ]
     },
     "execution_count": 7,
     "metadata": {},
     "output_type": "execute_result"
    }
   ],
   "source": [
    "type(1.5)"
   ]
  },
  {
   "cell_type": "markdown",
   "id": "0617b406-45da-4ea3-bf61-6bf9f63195af",
   "metadata": {},
   "source": [
    "So, `float` (floating point computer math includes fractions) is the third type.  That gives us three types in Python for this tutorial:\n",
    "* `str`—The string type stores letters.\n",
    "* `int`—The integer type stores numbers with no fractions.\n",
    "* `float`—The floating point type stores numbers that contain fractions.\n",
    "\n",
    "We can use `int()`, `float()`, and `str()` to convert types to each other.  Let's convert the floating point number `1.5` to a string:"
   ]
  },
  {
   "cell_type": "code",
   "execution_count": 9,
   "id": "4c69e57a-d98e-4f67-ad1b-45e94d4436be",
   "metadata": {},
   "outputs": [
    {
     "data": {
      "text/plain": [
       "str"
      ]
     },
     "execution_count": 9,
     "metadata": {},
     "output_type": "execute_result"
    }
   ],
   "source": [
    "fltnum = 1.5\n",
    "strnum = str(fltnum)\n",
    "type(strnum)"
   ]
  },
  {
   "cell_type": "markdown",
   "id": "f5d7d47b-1ad2-4c16-9f89-85ef65269c7b",
   "metadata": {},
   "source": [
    "Now we can use the `int()` function to convert the string we get from `input()` to a number."
   ]
  },
  {
   "cell_type": "code",
   "execution_count": 12,
   "id": "2aafec93-ddf1-438d-a221-e9f9b4f114f5",
   "metadata": {},
   "outputs": [
    {
     "name": "stdin",
     "output_type": "stream",
     "text": [
      "Give me a number: 3\n"
     ]
    },
    {
     "name": "stdout",
     "output_type": "stream",
     "text": [
      "Number plus five: 8\n"
     ]
    }
   ],
   "source": [
    "total = 5 + int(input(\"Give me a number:\"))\n",
    "print(\"Number plus five:\", total)"
   ]
  },
  {
   "cell_type": "markdown",
   "id": "6d5fe914-2b97-4dd2-abbc-1fc0accddff6",
   "metadata": {},
   "source": [
    "# Now you do it\n",
    "\n",
    "The program below prints a user's age a year from now, but it is incomplete.  Write the lines to get it read an age from a user and write the age."
   ]
  },
  {
   "cell_type": "code",
   "execution_count": 17,
   "id": "c3675a62-ecfa-4859-bef6-0768f9bd5b32",
   "metadata": {},
   "outputs": [
    {
     "name": "stdout",
     "output_type": "stream",
     "text": [
      "In a year, you will be 34 years old\n"
     ]
    }
   ],
   "source": [
    "# Read a number from the user and convert it to an integer\n",
    "# Add 1 to the number and store the result in ageplusone.\n",
    "\n",
    "print(\"In a year, you will be\", ageplusone, \"years old\")"
   ]
  }
 ],
 "metadata": {
  "kernelspec": {
   "display_name": "Python 3 (ipykernel)",
   "language": "python",
   "name": "python3"
  },
  "language_info": {
   "codemirror_mode": {
    "name": "ipython",
    "version": 3
   },
   "file_extension": ".py",
   "mimetype": "text/x-python",
   "name": "python",
   "nbconvert_exporter": "python",
   "pygments_lexer": "ipython3",
   "version": "3.13.5"
  }
 },
 "nbformat": 4,
 "nbformat_minor": 5
}
