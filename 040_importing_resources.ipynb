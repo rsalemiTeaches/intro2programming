{
 "cells": [
  {
   "cell_type": "markdown",
   "id": "441ff474-a43c-484b-96d0-d040f695699b",
   "metadata": {},
   "source": [
    "# Adding New Functions: Importing Modules\n",
    "\n",
    "So far, we've used several functions like `print()`, `input()`, and `int()`. These are part of Python's core abilities, and they are always available.\n",
    "\n",
    "But what about `randint()`? That function isn't part of Python's basic set of tools. To use it, we had to add this line to the top of our program:\n",
    "`from random import randint`\n",
    "\n",
    "What does this line actually do? It **imports** a new ability into our program from an external \"toolbox.\" In programming, these toolboxes are called **modules** or **libraries**.\n",
    "\n",
    "Let's explore how this works.\n"
   ]
  },
  {
   "cell_type": "markdown",
   "id": "ca1fdf99-8149-48b6-8618-29e20489ef8d",
   "metadata": {},
   "source": [
    "### The Toolbox Analogy\n",
    "\n",
    "Imagine you are in a workshop. You have your basic tools always at hand: a hammer and a screwdriver (`print`, `input`).\n",
    "\n",
    "But what if you need a special tool, like a wrench? The wrenches are all neatly organized in a toolbox labeled \"**Time**\". To use a wrench, you first have to get the toolbox.\n",
    "\n",
    "This is exactly what the `import` statement does. It tells Python, \"I need to use some tools from a specific toolbox.\""
   ]
  },
  {
   "cell_type": "markdown",
   "id": "cee5b15d-97b0-4ef9-8bef-a6aee3253a6f",
   "metadata": {},
   "source": [
    "### Style 1: `import <toolbox>`\n",
    "\n",
    "One way to import is to grab the entire toolbox. Let's say we want to use a function called `sleep_ms` (which tells the computer to pause for a certain number of milliseconds). This function lives in the `time` module.\n",
    "\n",
    "First, we import the whole `time` toolbox."
   ]
  },
  {
   "cell_type": "code",
   "execution_count": 2,
   "id": "628f0c6c-8953-4e65-8801-258232d037a3",
   "metadata": {},
   "outputs": [
    {
     "name": "stdout",
     "output_type": "stream",
     "text": [
      "Starting...\n",
      "...Finished!\n"
     ]
    }
   ],
   "source": [
    "import time\n",
    "\n",
    "print(\"Starting...\")\n",
    "# To use a tool from the toolbox, we have to say which box it's from.\n",
    "# We use the dot . to say \"from the 'time' toolbox, use the 'sleep_ms' tool\"\n",
    "time.sleep(2) # Pause for 2000 milliseconds (2 seconds)\n",
    "print(\"...Finished!\")"
   ]
  },
  {
   "cell_type": "markdown",
   "id": "d0a0aaab-b6e7-445e-8d3a-3e3c58c33b2d",
   "metadata": {},
   "source": [
    "### Style 2: `from <toolbox> import <tool>`\n",
    "\n",
    "Grabbing the whole toolbox is great, but what if you only need one specific wrench? It might be easier to just take that one tool out and put it on your workbench.\n",
    "\n",
    "That's what the `from...import` style does. We used this style to get `randint`.\n",
    "\n",
    "`from random import randint`\n",
    "\n",
    "This command means: \"Go to the **random** toolbox, find the tool named **randint**, and bring just that one tool into my program.\"\n",
    "\n",
    "Because we've put the tool directly on our workbench, we don't need to mention the toolbox's name anymore. We can just call it directly.\n"
   ]
  },
  {
   "cell_type": "code",
   "execution_count": null,
   "id": "f2842266-167b-494e-a0af-94110cff06ec",
   "metadata": {},
   "outputs": [],
   "source": [
    "# We are only getting the 'randint' tool.\n",
    "from random import randint\n",
    "\n",
    "# We can use randint() directly now, without saying \"random.\" first.\n",
    "random_number = randint(1, 100)\n",
    "print(\"My random number is:\", random_number)\n"
   ]
  },
  {
   "cell_type": "markdown",
   "id": "babd82dd-849c-4dfd-85ba-50ba3761535a",
   "metadata": {},
   "source": [
    "### Why Use Modules?\n",
    "\n",
    "Programmers almost never build big programs from scratch. They build on the work of others by importing modules. Modules are how we share and organize code. They let us use powerful tools for math, web browsing, data science, and robotics without having to write them ourselves!\n"
   ]
  },
  {
   "cell_type": "markdown",
   "id": "b78f5b69-db9a-4889-b4ef-9ebbec6d2711",
   "metadata": {},
   "source": [
    "# You Do It\n",
    "\n",
    "Now it's your turn. There is a very useful module in Python called `math` that contains tools for doing math, like finding the square root of a number.\n",
    "\n",
    "The function to find a square root is called `sqrt()`.\n",
    "\n",
    "In the code cell below, write a program that:\n",
    "1.  Imports the `sqrt` function from the `math` module.\n",
    "2.  Calls the `sqrt()` function to find the square root of `25`.\n",
    "3.  Prints the result in a friendly message."
   ]
  },
  {
   "cell_type": "code",
   "execution_count": null,
   "id": "bf9812b7-69c3-4483-b06d-936f90bee974",
   "metadata": {},
   "outputs": [],
   "source": [
    "# Your code goes here!\n",
    "# 1. Import the specific tool you need.\n",
    "\n",
    "# 2. Call the function and store the result in a variable.\n",
    "\n",
    "# 3. Print your result.\n"
   ]
  },
  {
   "cell_type": "code",
   "execution_count": null,
   "id": "24ed0eff-13f4-47a5-aa87-83506082446a",
   "metadata": {},
   "outputs": [],
   "source": []
  }
 ],
 "metadata": {
  "kernelspec": {
   "display_name": "Python 3 (ipykernel)",
   "language": "python",
   "name": "python3"
  },
  "language_info": {
   "codemirror_mode": {
    "name": "ipython",
    "version": 3
   },
   "file_extension": ".py",
   "mimetype": "text/x-python",
   "name": "python",
   "nbconvert_exporter": "python",
   "pygments_lexer": "ipython3",
   "version": "3.13.5"
  }
 },
 "nbformat": 4,
 "nbformat_minor": 5
}
