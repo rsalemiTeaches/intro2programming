{
 "cells": [
  {
   "cell_type": "markdown",
   "id": "28d61f50-b7b4-42b2-b95a-8c6c4fc8bd2f",
   "metadata": {},
   "source": [
    "# Loops\n",
    "\n",
    "So far, we've created programs that run once and stop, but many programming applications must do the same thing repeatedly.  For example, robot code keeps checking sensors and responding to the data.  In this section, we'll discuss the Python `while` loop, though there are other kinds of loops in other languages.\n",
    "\n",
    "## The `while` loop\n",
    "\n",
    "The Python `while` loop checks a condition and loops as long as the condition is true.  Here is an example that counts from one to five:"
   ]
  },
  {
   "cell_type": "code",
   "execution_count": 2,
   "id": "b6ddbccd-bc73-4d82-a7b2-02aab2b2a25b",
   "metadata": {},
   "outputs": [
    {
     "name": "stdout",
     "output_type": "stream",
     "text": [
      "1\n",
      "2\n",
      "3\n",
      "4\n",
      "5\n"
     ]
    }
   ],
   "source": [
    "counter = 1\n",
    "while counter <= 5:\n",
    "    print(counter)\n",
    "    counter = counter + 1"
   ]
  },
  {
   "cell_type": "markdown",
   "id": "632f5c28-8697-43b1-98c6-e613b07a3266",
   "metadata": {},
   "source": [
    "The code above demonstrates all of a `while` loop:\n",
    "* The `while` has a condition that it checks.  In this case, we check that `xx` is less than or equal to 5.\n",
    "* **Important** We indent the actions inside the loop.\n",
    "* We print `num`.\n",
    "* We add 1 to `num` and store the result back in `num`\n",
    "* When `num` reaches 6 the loop stops.\n",
    "\n",
    "## Looping until something happens\n",
    "\n",
    "Sometimes we have programs that need to loop forever until something happens.  Robot programs, for example, loop forever until the robot sees something to make it stop.\n",
    "\n",
    "Let's rewrite the `while` loop above to stop looping when `xx` reaches 6."
   ]
  },
  {
   "cell_type": "code",
   "execution_count": 3,
   "id": "4eaa8b0d-7f6e-495a-9281-ffc6d4f708e7",
   "metadata": {},
   "outputs": [
    {
     "name": "stdout",
     "output_type": "stream",
     "text": [
      "1\n",
      "2\n",
      "3\n",
      "4\n",
      "5\n"
     ]
    }
   ],
   "source": [
    "num = 1\n",
    "while True:\n",
    "    print(num)\n",
    "    num = num + 1\n",
    "    if num == 6:\n",
    "        break"
   ]
  },
  {
   "cell_type": "markdown",
   "id": "a7ac5599-0e73-4848-acdc-6c18792a0488",
   "metadata": {},
   "source": [
    "This code creates the same output as the previous example but uses a `break` statement to \"break out\" of the loop.  `break` statements are helpful when you discover that you need to break out of the loop before executing the steps in the bottom half of the loop. \n",
    "\n",
    "## Example: Blackjack dealer\n",
    "In blackjack, the dealer keeps dealing cards to themself until the total is 17. If the dealer goes over 21 it stops dealing and \"busts\".  Let's write a little program to simulate this.  Blackjack cards have values from 1 to 10 so we'll use `randint` to simulate that."
   ]
  },
  {
   "cell_type": "code",
   "execution_count": 11,
   "id": "1512a410-96b9-4578-bea6-afb3cdd314f1",
   "metadata": {},
   "outputs": [
    {
     "name": "stdout",
     "output_type": "stream",
     "text": [
      "Initial total is 16\n",
      "New total is 23\n",
      "Dealer BUSTED with  23\n"
     ]
    }
   ],
   "source": [
    "# First we get two cards\n",
    "from random import randint\n",
    "\n",
    "dealerTotal = randint(1,10) + randint(1,10) # get two cards and add them.\n",
    "print(\"Initial total is\", dealerTotal)\n",
    "while dealerTotal < 17:\n",
    "    dealerTotal = dealerTotal + randint(1,10)\n",
    "    print(\"New total is\", dealerTotal)\n",
    "\n",
    "if dealerTotal > 21:\n",
    "    print (\"Dealer BUSTED with \", dealerTotal)\n",
    "else:\n",
    "    print(\"Dealer got \", dealerTotal)\n",
    "    "
   ]
  },
  {
   "cell_type": "markdown",
   "id": "994953db-adb3-403f-8cdf-7ad2452ad916",
   "metadata": {},
   "source": [
    "# You do it\n",
    "\n",
    "Write a program that prints a rocket countdown to the screen then prints **Blastoff**."
   ]
  },
  {
   "cell_type": "code",
   "execution_count": 12,
   "id": "78de4a6f-6378-4d07-a408-4cd79cf1ae26",
   "metadata": {},
   "outputs": [
    {
     "name": "stdout",
     "output_type": "stream",
     "text": [
      "Blastoff!\n"
     ]
    }
   ],
   "source": [
    "# 1. Setup: Initialize your countdown variable.\n",
    "count = 10 # Let's start from 10!\n",
    "\n",
    "# 2. Loop: Write a while loop that continues as long as 'count' is greater than 0.\n",
    "# Inside the loop, you should:\n",
    "#  - print the value of count\n",
    "#  - subtract 1 from count\n",
    "\n",
    "# 3. After the loop is finished:\n",
    "print(\"Blastoff!\")"
   ]
  }
 ],
 "metadata": {
  "kernelspec": {
   "display_name": "Python 3 (ipykernel)",
   "language": "python",
   "name": "python3"
  },
  "language_info": {
   "codemirror_mode": {
    "name": "ipython",
    "version": 3
   },
   "file_extension": ".py",
   "mimetype": "text/x-python",
   "name": "python",
   "nbconvert_exporter": "python",
   "pygments_lexer": "ipython3",
   "version": "3.13.5"
  }
 },
 "nbformat": 4,
 "nbformat_minor": 5
}
