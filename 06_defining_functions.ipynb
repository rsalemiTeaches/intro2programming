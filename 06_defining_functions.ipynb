{
 "cells": [
  {
   "cell_type": "markdown",
   "id": "76bd5948-d439-464f-b68a-292320c2f895",
   "metadata": {},
   "source": [
    "# Defining Functions\n",
    "\n",
    "In section 3, we discussed using functions.  We talked about *calling* a function, using *arguments*, and using *return values*.  In this section, we'll learn to define functions. \n",
    "\n",
    "## Simple `show_welcome_message()` function\n",
    "\n",
    "In this section, we'll learn the basics of defining a function. In Python, we define functions using the `def` keyword. (Other computer languages have different keywords that do the same thing.) We use the `def` statement like this:\n",
    "\n",
    "```Python\n",
    "def <function name>(<arguement list>):\n",
    "    <function body>\n",
    "```\n",
    "\n",
    "We can see above that we use the `def` keyword.  Then we give the function its name.  We follow the name with parentheses, either empty `()` or containing an argument list. We end the statement with a colon. **Important** We indent the statements that are in the function.\n",
    "\n",
    "Here is an example that prints a welcome message.  We print something to the screen, call the `show_welcome_message()` function, and then print something else."
   ]
  },
  {
   "cell_type": "code",
   "execution_count": 3,
   "id": "1678e1a6-b829-4c43-879e-23a82ab89c09",
   "metadata": {},
   "outputs": [
    {
     "name": "stdout",
     "output_type": "stream",
     "text": [
      "Let's begin. Here is the welcome message:\n",
      "\n",
      "Welcome to our program!\n",
      "We hope you have a great time.\n",
      "\n",
      "The program is now continuing...\n"
     ]
    }
   ],
   "source": [
    "# 1. Define the function\n",
    "def show_welcome_message():\n",
    "  print(\"Welcome to our program!\")\n",
    "  print(\"We hope you have a great time.\")\n",
    "\n",
    "# 2. Call the function to make it run\n",
    "print(\"Let's begin. Here is the welcome message:\\n\")\n",
    "show_welcome_message()\n",
    "\n",
    "print(\"\\nThe program is now continuing...\")"
   ]
  },
  {
   "cell_type": "markdown",
   "id": "0ad7082b-ab30-445e-a74f-b2a618c8e528",
   "metadata": {},
   "source": [
    "This was a simple function that took no arguments.  Let's add an argument.  We'll make a new version that takes the user's name as an argument."
   ]
  },
  {
   "cell_type": "code",
   "execution_count": 4,
   "id": "4e325add-1cfe-41b9-8f96-f79e17fe4ebb",
   "metadata": {},
   "outputs": [
    {
     "name": "stdout",
     "output_type": "stream",
     "text": [
      "Let's begin. Here is the welcome message:\n",
      "\n",
      "Welcome to our program, Alex\n",
      "We hope you have a great time.\n",
      "\n",
      "The program is now continuing...\n"
     ]
    }
   ],
   "source": [
    "# 1. Define the function\n",
    "def custom_welcome_message(name):\n",
    "  print(\"Welcome to our program,\",name)\n",
    "  print(\"We hope you have a great time.\")\n",
    "\n",
    "# 2. Call the function to make it run\n",
    "print(\"Let's begin. Here is the welcome message:\\n\")\n",
    "custom_welcome_message(\"Alex\")\n",
    "\n",
    "print(\"\\nThe program is now continuing...\")"
   ]
  },
  {
   "cell_type": "markdown",
   "id": "42b7fc1c-e350-435e-b92a-3b9cfea6e626",
   "metadata": {},
   "source": [
    "We've renamed the function to `custom_welcome_message()` and now we pass the function the user's name.  We use the name to make a nicer message.\n",
    "\n",
    "## Returning a value\n",
    "\n",
    "Programming takes the name *function* from math where a function takes arguments and returns a value. For example, here is the function for the area of a rectangle:\n",
    "\n",
    "$area(b,h) = b * h$\n",
    "\n",
    "We can define the same function in Python:\n"
   ]
  },
  {
   "cell_type": "code",
   "execution_count": 6,
   "id": "9d58cb0e-f600-4808-bd3a-6b1a1e58f043",
   "metadata": {},
   "outputs": [
    {
     "name": "stdout",
     "output_type": "stream",
     "text": [
      "The area of a 2x7 rectangle is 14\n"
     ]
    }
   ],
   "source": [
    "def area(base, height):\n",
    "    rect_area = base * height\n",
    "    return rect_area\n",
    "\n",
    "area27 = area(2, 7)\n",
    "print(\"The area of a 2x7 rectangle is\", area27\n",
    "    "
   ]
  },
  {
   "cell_type": "markdown",
   "id": "4259fd3b-959d-4411-8249-4eaac65cb48c",
   "metadata": {},
   "source": [
    "We defined the function using the `def` keyword and named the function `area`.  The `area` function takes two arguments named `base` and `height`.  We multiply the two together to get an area and use the `return` keyword to return the area to the `area27` variable.  Then we print the variable."
   ]
  },
  {
   "cell_type": "markdown",
   "id": "5565ce0b-95e6-4da9-9c6a-7b6a95e2f068",
   "metadata": {},
   "source": [
    "# You do it\n",
    "\n",
    "Now it is your turner.  Create a function named `doubler()` that takes a number and returns 2x the number.  Here is the test code."
   ]
  },
  {
   "cell_type": "code",
   "execution_count": 9,
   "id": "2e07e2ab-b48f-4665-8659-3b0ca236ac69",
   "metadata": {},
   "outputs": [
    {
     "name": "stdout",
     "output_type": "stream",
     "text": [
      "1 times two is None\n",
      "You have an error\n"
     ]
    }
   ],
   "source": [
    "# You write the function\n",
    "def doubler():  # add argument(s)\n",
    "    pass  # replace with your code.\n",
    "\n",
    "ii = 1;\n",
    "while ii <= 3:\n",
    "    print (ii, \"times two is\", doubler(ii))\n",
    "    if doubler(ii) != ii * 2:\n",
    "        print(\"You have an error\")\n",
    "        break\n",
    "\n",
    "\n"
   ]
  },
  {
   "cell_type": "markdown",
   "id": "7c21f856-a88e-462f-8dbd-afc465a80c19",
   "metadata": {},
   "source": [
    "# What's Next\n",
    "[07 Summary](07_summary.ipynb)"
   ]
  },
  {
   "cell_type": "code",
   "execution_count": null,
   "id": "10a3dec0-91e5-4761-8f95-9cbef0964ecf",
   "metadata": {},
   "outputs": [],
   "source": []
  }
 ],
 "metadata": {
  "kernelspec": {
   "display_name": "Python 3 (ipykernel)",
   "language": "python",
   "name": "python3"
  },
  "language_info": {
   "codemirror_mode": {
    "name": "ipython",
    "version": 3
   },
   "file_extension": ".py",
   "mimetype": "text/x-python",
   "name": "python",
   "nbconvert_exporter": "python",
   "pygments_lexer": "ipython3",
   "version": "3.13.5"
  }
 },
 "nbformat": 4,
 "nbformat_minor": 5
}
