{
 "cells": [
  {
   "cell_type": "markdown",
   "id": "ad2a3879-9977-46eb-ae11-8bbb2ffab249",
   "metadata": {},
   "source": [
    "# Introduction to programming\n",
    "\n",
    "[01 Welcome to programming](01_welcome2programming.ipynb)"
   ]
  },
  {
   "cell_type": "code",
   "execution_count": null,
   "id": "f25e59eb-1204-4a84-a987-4f787ba39e17",
   "metadata": {},
   "outputs": [],
   "source": []
  }
 ],
 "metadata": {
  "kernelspec": {
   "display_name": "Python 3 (ipykernel)",
   "language": "python",
   "name": "python3"
  },
  "language_info": {
   "codemirror_mode": {
    "name": "ipython",
    "version": 3
   },
   "file_extension": ".py",
   "mimetype": "text/x-python",
   "name": "python",
   "nbconvert_exporter": "python",
   "pygments_lexer": "ipython3",
   "version": "3.8.12"
  }
 },
 "nbformat": 4,
 "nbformat_minor": 5
}
