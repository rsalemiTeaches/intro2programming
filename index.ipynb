{
 "cells": [
  {
   "cell_type": "markdown",
   "id": "ad2a3879-9977-46eb-ae11-8bbb2ffab249",
   "metadata": {},
   "source": [
    "# Table of Contents\n",
    "\n",
    "## [01 Welcome to programming](01_welcome2programming.ipynb)\n",
    "\n",
    "## [02 Variables](02_variables.ipynb)\n",
    "\n",
    "## [03 Using functions](03_using_functions.ipynb)"
   ]
  },
  {
   "cell_type": "code",
   "execution_count": null,
   "id": "29cd6166-f4bf-444f-a0fc-54ed3210bae0",
   "metadata": {},
   "outputs": [],
   "source": []
  }
 ],
 "metadata": {
  "kernelspec": {
   "display_name": "Python 3 (ipykernel)",
   "language": "python",
   "name": "python3"
  },
  "language_info": {
   "codemirror_mode": {
    "name": "ipython",
    "version": 3
   },
   "file_extension": ".py",
   "mimetype": "text/x-python",
   "name": "python",
   "nbconvert_exporter": "python",
   "pygments_lexer": "ipython3",
   "version": "3.13.5"
  }
 },
 "nbformat": 4,
 "nbformat_minor": 5
}
