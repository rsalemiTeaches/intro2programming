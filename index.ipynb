{
 "cells": [
  {
   "cell_type": "markdown",
   "id": "ad2a3879-9977-46eb-ae11-8bbb2ffab249",
   "metadata": {},
   "source": [
    "# Introduction to programming by Mr. Salemi\n",
    "\n",
    "If you're here, you are taking a class with me and either have never programmed before or need a reminder.  No problem!  This set of notebooks teaches you the basics of programming and the concepts you'll need to complete your assignments.\n",
    "\n",
    "These notebooks combine computer code with text.  So you can see code and run.  Click on the code below and press *shift*-*enter*."
   ]
  },
  {
   "cell_type": "code",
   "execution_count": 4,
   "id": "f28d442e-90e3-4424-b0ad-81bfbd95fd85",
   "metadata": {},
   "outputs": [
    {
     "name": "stdout",
     "output_type": "stream",
     "text": [
      "Get ready for your programming journey to begin in 3... 2... 1...\n",
      "\n",
      "      /\\\n",
      "     /  \\\n",
      "    /    \\\n",
      "   |  NHS |\n",
      "   |      |\n",
      "  /|------|\\\n",
      " / |      | \\\n",
      "/__|______|__\\\n",
      "   |______|\n",
      "   | |  | |\n",
      "  /   /\\   \\\n",
      " /___/  \\___\\\n",
      "   Blastoff!\n"
     ]
    }
   ],
   "source": [
    "print(\"Get ready for your programming journey to begin in 3... 2... 1...\")\n",
    "print(\"\") # This adds a blank line\n",
    "print(\"      /\\\\\")\n",
    "print(\"     /  \\\\\")\n",
    "print(\"    /    \\\\\")\n",
    "print(\"   |  NHS |\")\n",
    "print(\"   |      |\")\n",
    "print(\"  /|------|\\\\\")\n",
    "print(\" / |      | \\\\\")\n",
    "print(\"/__|______|__\\\\\")\n",
    "print(\"   |______|\")\n",
    "print(\"   | |  | |\")\n",
    "print(\"  /   /\\\\   \\\\\")\n",
    "print(\" /___/  \\\\___\\\\\")\n",
    "print(\"   Blastoff!\")"
   ]
  },
  {
   "cell_type": "markdown",
   "id": "6d200937-e5f6-49d6-8776-fcd4d10beca6",
   "metadata": {},
   "source": [
    "You can run all the examples using *shift*-*enter* this way.\n",
    "\n",
    "# Table of contents\n",
    "\n",
    "This course has six sections and a summary.  Each section teaches one programming concept.  The top and bottom of the sections have links to the previous and next sections, or you can click on any section here.\n",
    "\n",
    "## [01 Welcome to programming](01_welcome2programming.ipynb)\n",
    "\n",
    "## [02 Variables](02_variables.ipynb)\n",
    "\n",
    "## [03 Using functions](03_using_functions.ipynb)\n",
    "\n",
    "## [04 Deciding what to do](04_deciding_what_to_do.ipynb)\n",
    "\n",
    "## [05 Loops](05_loops.ipynb)\n",
    "\n",
    "## [06 Defining functions](06_defining_functions.ipynb)\n",
    "\n",
    "## [07 Summary](07_summary.ipynb)"
   ]
  }
 ],
 "metadata": {
  "kernelspec": {
   "display_name": "Python 3 (ipykernel)",
   "language": "python",
   "name": "python3"
  },
  "language_info": {
   "codemirror_mode": {
    "name": "ipython",
    "version": 3
   },
   "file_extension": ".py",
   "mimetype": "text/x-python",
   "name": "python",
   "nbconvert_exporter": "python",
   "pygments_lexer": "ipython3",
   "version": "3.13.5"
  }
 },
 "nbformat": 4,
 "nbformat_minor": 5
}
