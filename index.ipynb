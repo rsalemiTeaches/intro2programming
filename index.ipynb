{
 "cells": [
  {
   "cell_type": "markdown",
   "id": "ad2a3879-9977-46eb-ae11-8bbb2ffab249",
   "metadata": {},
   "source": [
    "# Table of Contents\n",
    "\n",
    "[01 Welcome to programming](01_welcome2programming.ipynb)  \n",
    "[02 Variables](02_variables.ipynb)\n"
   ]
  }
 ],
 "metadata": {
  "kernelspec": {
   "display_name": "Python 3 (ipykernel)",
   "language": "python",
   "name": "python3"
  },
  "language_info": {
   "codemirror_mode": {
    "name": "ipython",
    "version": 3
   },
   "file_extension": ".py",
   "mimetype": "text/x-python",
   "name": "python",
   "nbconvert_exporter": "python",
   "pygments_lexer": "ipython3",
   "version": "3.8.12"
  }
 },
 "nbformat": 4,
 "nbformat_minor": 5
}
