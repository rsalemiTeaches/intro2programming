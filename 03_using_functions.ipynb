{
 "cells": [
  {
   "cell_type": "markdown",
   "id": "54d80d2b-7029-4291-af42-629640ff6fdd",
   "metadata": {},
   "source": [
    "# Using Functions\n",
    "\n",
    "In our previous section, we used `input()` to get an input string from the user.  We also `print()` to print *Hello, world.*.   You might think of `input()` and `print()` as commands, but they are actually called *Functions*.  Let's talk about functions.\n",
    "\n",
    "We'll cover three topics:\n",
    "\n",
    "* Calling functions\n",
    "* Arguments\n",
    "* Return values\n",
    "\n",
    "## Calling functions\n",
    "\n",
    "Our first program printed *Hello, world.*.\n",
    "\n",
    "\n",
    "\n",
    "\n"
   ]
  },
  {
   "cell_type": "code",
   "execution_count": 1,
   "id": "913b5b34-a154-4200-b639-2d2d47b081a6",
   "metadata": {},
   "outputs": [
    {
     "name": "stdout",
     "output_type": "stream",
     "text": [
      "Hello, world.\n"
     ]
    }
   ],
   "source": [
    "print(\"Hello, world.\")"
   ]
  },
  {
   "cell_type": "markdown",
   "id": "66e7e8d0-9df4-4495-9689-f7b0774395dc",
   "metadata": {},
   "source": [
    "The thing that printed the message was called a *function*.  Specifically, it was the `print()` function.  When we use a function we say that we *call* the function.  For example, the code below *calls* the `input()` and `print()` functions:"
   ]
  },
  {
   "cell_type": "code",
   "execution_count": 3,
   "id": "0074b68d-b38f-4c00-a0b5-95631d56b8aa",
   "metadata": {},
   "outputs": [
    {
     "name": "stdin",
     "output_type": "stream",
     "text": [
      "What is your name Meg\n"
     ]
    },
    {
     "name": "stdout",
     "output_type": "stream",
     "text": [
      "Hello, Meg .\n"
     ]
    }
   ],
   "source": [
    "name = input(\"What is your name\")\n",
    "print(\"Hello,\", name, \".\")"
   ]
  },
  {
   "cell_type": "markdown",
   "id": "1ed3d1f9-9931-4510-baed-aef5be41798b",
   "metadata": {},
   "source": [
    "The first thing you've learned is that we use the word *call* when we say we use a function.  You'll hear me use that word a lot.\n",
    "\n",
    "## Arguments\n",
    "\n",
    "We call a function by typing its name followed by two parentheses. We put data between the parentheses to tell the function what to do.  The things between the parentheses are called *arguments*.\n",
    "\n",
    "In the *Hello, world* program the argument to the `print()` function is the string \"Hello, world.\" "
   ]
  },
  {
   "cell_type": "code",
   "execution_count": 5,
   "id": "54e7577f-f275-486d-a20a-03f2ffb4b77b",
   "metadata": {},
   "outputs": [
    {
     "name": "stdout",
     "output_type": "stream",
     "text": [
      "Hello, world.\n"
     ]
    }
   ],
   "source": [
    "print(\"Hello, world.\")"
   ]
  },
  {
   "cell_type": "markdown",
   "id": "44cb5b4a-81f4-4770-840d-856cf80b1011",
   "metadata": {},
   "source": [
    "We can call the `input()` function with no arguments if we don't want a prompt."
   ]
  },
  {
   "cell_type": "code",
   "execution_count": 6,
   "id": "b9fc3b81-9e97-4f72-986d-c3c05b67e3be",
   "metadata": {},
   "outputs": [
    {
     "name": "stdout",
     "output_type": "stream",
     "text": [
      "Enter your name below\n"
     ]
    },
    {
     "name": "stdin",
     "output_type": "stream",
     "text": [
      " Freddy\n"
     ]
    },
    {
     "name": "stdout",
     "output_type": "stream",
     "text": [
      "Your name is Freddy\n"
     ]
    }
   ],
   "source": [
    "print(\"Enter your name below\")\n",
    "name = input()\n",
    "print(\"Your name is\", name)"
   ]
  },
  {
   "cell_type": "markdown",
   "id": "052d7813-cfb6-4b7a-955d-9135d3b8024a",
   "metadata": {},
   "source": [
    "Notice that the `print()` statement above has two arguments. Some functions have a variable number of arguments, and some are strict about the number of arguments.\n",
    "\n",
    "## Return Values\n",
    "\n",
    "Many functions, such as `input()` *return* a value.  You call the function and it *returns* a value you can store in a variable or use in your program.  We call the value you get back a *return value*.\n",
    "\n",
    "Some functions, such as `print()` don't return a value, but most do.\n",
    "\n",
    "We've seen the `input()` function return a string in the program above.\n",
    "\n",
    "## Describing a function\n",
    "\n",
    "We use angle brackets (`< >`) to describe a function.  For example, here is the description of the `randint()` function. It returns a random integer:\n",
    "\n",
    "```\n",
    "<randVal> = randint(<minVal>, <maxVal>)\n",
    "\n",
    "Returns a random integer between the min and max.  minVal <= randint <= maxVal\n",
    "```\n",
    "# Now you do it.\n",
    "Write a program below that prints three random values between 1 and 10."
   ]
  },
  {
   "cell_type": "code",
   "execution_count": 7,
   "id": "54a4516f-7b7a-4527-8b9d-2c5adc65c55b",
   "metadata": {},
   "outputs": [],
   "source": [
    "# This is the basic structure\n",
    "# num = <call randint>\n",
    "# print(num)"
   ]
  },
  {
   "cell_type": "code",
   "execution_count": null,
   "id": "f15223e1-50b4-44e6-bd57-00d68b4574c7",
   "metadata": {},
   "outputs": [],
   "source": []
  }
 ],
 "metadata": {
  "kernelspec": {
   "display_name": "Python 3 (ipykernel)",
   "language": "python",
   "name": "python3"
  },
  "language_info": {
   "codemirror_mode": {
    "name": "ipython",
    "version": 3
   },
   "file_extension": ".py",
   "mimetype": "text/x-python",
   "name": "python",
   "nbconvert_exporter": "python",
   "pygments_lexer": "ipython3",
   "version": "3.13.5"
  }
 },
 "nbformat": 4,
 "nbformat_minor": 5
}
