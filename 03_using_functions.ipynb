{
 "cells": [
  {
   "cell_type": "markdown",
   "id": "54d80d2b-7029-4291-af42-629640ff6fdd",
   "metadata": {},
   "source": [
    "**Previous** [02 Variables](02_variables.ipynb)\n",
    "\n",
    "# Using Functions\n",
    "\n",
    "In our previous section, we used `input()` to get an input string from the user.  We also `print()` to print *Hello, world.*.   You might think of `input()` and `print()` as commands, but they are actually called *Functions*.  Let's talk about functions.\n",
    "\n",
    "We'll cover three topics:\n",
    "\n",
    "* Calling functions\n",
    "* Arguments\n",
    "* Return values\n",
    "\n",
    "## Calling functions\n",
    "\n",
    "Our first program printed *Hello, world.*.\n",
    "\n",
    "\n",
    "\n",
    "\n"
   ]
  },
  {
   "cell_type": "code",
   "execution_count": 1,
   "id": "913b5b34-a154-4200-b639-2d2d47b081a6",
   "metadata": {},
   "outputs": [
    {
     "name": "stdout",
     "output_type": "stream",
     "text": [
      "Hello, world.\n"
     ]
    }
   ],
   "source": [
    "print(\"Hello, world.\")"
   ]
  },
  {
   "cell_type": "markdown",
   "id": "66e7e8d0-9df4-4495-9689-f7b0774395dc",
   "metadata": {},
   "source": [
    "The thing that printed the message was called a *function*.  Specifically, it was the `print()` function.  When we use a function we say that we *call* the function.  For example, the code below *calls* the `input()` and `print()` functions:"
   ]
  },
  {
   "cell_type": "code",
   "execution_count": 3,
   "id": "0074b68d-b38f-4c00-a0b5-95631d56b8aa",
   "metadata": {},
   "outputs": [
    {
     "name": "stdin",
     "output_type": "stream",
     "text": [
      "What is your name Rat\n"
     ]
    },
    {
     "name": "stdout",
     "output_type": "stream",
     "text": [
      "Hello, Rat .\n"
     ]
    }
   ],
   "source": [
    "name = input(\"What is your name\")\n",
    "print(\"Hello,\", name, \".\")"
   ]
  },
  {
   "cell_type": "markdown",
   "id": "1ed3d1f9-9931-4510-baed-aef5be41798b",
   "metadata": {},
   "source": [
    "The first thing you've learned is that we use the word *call* when we say we use a function.  You'll hear me use that word a lot.\n",
    "\n",
    "## Arguments\n",
    "\n",
    "We call a function by typing its name followed by two parentheses. We put data between the parentheses to tell the function what to do.  The things between the parentheses are called *arguments*.\n",
    "\n",
    "In the *Hello, world* program the argument to the `print()` function is the string \"Hello, world.\" "
   ]
  },
  {
   "cell_type": "code",
   "execution_count": 4,
   "id": "54e7577f-f275-486d-a20a-03f2ffb4b77b",
   "metadata": {},
   "outputs": [
    {
     "name": "stdout",
     "output_type": "stream",
     "text": [
      "Hello, world.\n"
     ]
    }
   ],
   "source": [
    "print(\"Hello, world.\")"
   ]
  },
  {
   "cell_type": "markdown",
   "id": "44cb5b4a-81f4-4770-840d-856cf80b1011",
   "metadata": {},
   "source": [
    "We can call the `input()` function with no arguments if we don't want a prompt."
   ]
  },
  {
   "cell_type": "markdown",
   "id": "90f46977-6158-44a8-a488-56006d279f6d",
   "metadata": {},
   "source": [
    "print(\"Enter your name below\")\n",
    "name = input()\n",
    "print(\"Your name is\", name)"
   ]
  },
  {
   "cell_type": "markdown",
   "id": "052d7813-cfb6-4b7a-955d-9135d3b8024a",
   "metadata": {},
   "source": [
    "Notice that the `print()` statement above has two arguments. Some functions have a variable number of arguments, and some are strict about the number of arguments.\n",
    "\n",
    "## Return Values\n",
    "\n",
    "Many functions, such as `input()` *return* a value.  You call the function and it *returns* a value you can store in a variable or use in your program.  We call the value you get back a *return value*.\n",
    "\n",
    "Some functions, such as `print()` don't return a value, but most do.\n",
    "\n",
    "We've seen the `input()` function return a string in the program above.\n",
    "\n",
    "## Describing a function\n",
    "\n",
    "We use angle brackets (`< >`) to describe a function.  For example, here is the description of the `randint()` function. It returns a random integer:\n",
    "\n",
    "```\n",
    "<randVal> = randint(<minVal>, <maxVal>)\n",
    "\n",
    "Returns a random integer between the min and max.  minVal <= randint <= maxVal\n",
    "```\n",
    "\n",
    "## Importing a package in Python\n",
    "\n",
    "The `randint()` function I described above does not exist in basic Python.  Instead, it comes from a *package* that contains functions related to randomness.  We need to import the function from the package to use it. Almost all programming languages have some way of importing functions from packages or libraries.  In Python, we use the `from` and `import` statements.\n"
   ]
  },
  {
   "cell_type": "code",
   "execution_count": 8,
   "id": "547a47b7-af5a-4706-b111-9445cb09e920",
   "metadata": {},
   "outputs": [
    {
     "name": "stdout",
     "output_type": "stream",
     "text": [
      "Random number from 1 to 10: 8\n"
     ]
    }
   ],
   "source": [
    "from random import randint\n",
    "rand1to10 = randint(1,10)\n",
    "print(\"Random number from 1 to 10:\", rand1to10)"
   ]
  },
  {
   "cell_type": "markdown",
   "id": "809ca315-2b8f-4367-996b-02e0504d5045",
   "metadata": {},
   "source": [
    "\n",
    "# Now you do it.\n",
    "Write a program below that prints three random values between 1 and 10."
   ]
  },
  {
   "cell_type": "code",
   "execution_count": 11,
   "id": "54a4516f-7b7a-4527-8b9d-2c5adc65c55b",
   "metadata": {},
   "outputs": [],
   "source": [
    "# This is the basic structure\n",
    "# from random import randint\n",
    "# num = <call randint>\n",
    "# print(num)"
   ]
  },
  {
   "cell_type": "markdown",
   "id": "8023b1dd-ec40-4dfa-a877-2a9f597ed6ca",
   "metadata": {},
   "source": [
    "# Next\n",
    "[04 Deciding what to do](04_deciding_what_to_do.ipynb)"
   ]
  },
  {
   "cell_type": "code",
   "execution_count": null,
   "id": "6d38c92f-dbe0-4954-a80a-c23c55370782",
   "metadata": {},
   "outputs": [],
   "source": []
  }
 ],
 "metadata": {
  "kernelspec": {
   "display_name": "Python 3 (ipykernel)",
   "language": "python",
   "name": "python3"
  },
  "language_info": {
   "codemirror_mode": {
    "name": "ipython",
    "version": 3
   },
   "file_extension": ".py",
   "mimetype": "text/x-python",
   "name": "python",
   "nbconvert_exporter": "python",
   "pygments_lexer": "ipython3",
   "version": "3.13.5"
  }
 },
 "nbformat": 4,
 "nbformat_minor": 5
}
